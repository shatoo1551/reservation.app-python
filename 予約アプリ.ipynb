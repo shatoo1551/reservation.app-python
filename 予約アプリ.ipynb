{
  "nbformat": 4,
  "nbformat_minor": 0,
  "metadata": {
    "colab": {
      "name": "予約アプリ.ipynb",
      "provenance": [],
      "authorship_tag": "ABX9TyNTV9V2hFM2A3dgq6qv2VJR",
      "include_colab_link": true
    },
    "kernelspec": {
      "name": "python3",
      "display_name": "Python 3"
    }
  },
  "cells": [
    {
      "cell_type": "markdown",
      "metadata": {
        "id": "view-in-github",
        "colab_type": "text"
      },
      "source": [
        "<a href=\"https://colab.research.google.com/github/shatoo1551/reservation.app-python/blob/develop/%E4%BA%88%E7%B4%84%E3%82%A2%E3%83%97%E3%83%AA.ipynb\" target=\"_parent\"><img src=\"https://colab.research.google.com/assets/colab-badge.svg\" alt=\"Open In Colab\"/></a>"
      ]
    },
    {
      "cell_type": "markdown",
      "metadata": {
        "id": "QSuNJbqtMGWn"
      },
      "source": [
        "#メンターの予約アプリ作成\n",
        "\n",
        "親クラス：申込者の名前\n",
        "\n",
        "子クラス：(申込者の情報)質問内容、申込者のID\n",
        "\n",
        "質問箱: (属性)子クラスを格納する変数\n",
        "        (振る舞い)　質問待ちをする人数\n",
        "        質問の予約処理をする\n",
        "        質問者の回答処理をする\n",
        "        質問者の予約がすでにされているかを確認　　　　"
      ]
    },
    {
      "cell_type": "code",
      "metadata": {
        "id": "m1UZOwVOMGGz"
      },
      "source": [
        "#親クラスを作成\n",
        "\n",
        "class Human():\n",
        "  def __init__(self, name):\n",
        "  #名前\n",
        "      self.name = name"
      ],
      "execution_count": null,
      "outputs": []
    },
    {
      "cell_type": "code",
      "metadata": {
        "id": "OImAWKEXLtjX"
      },
      "source": [
        "#子クラスを作成\n",
        "\n",
        "class Applicant(Human):\n",
        "\n",
        "  def __init__(self,name,Applicant_id,qustion):\n",
        "    super().__init__(name)\n",
        "    #変数を指定\n",
        "    self.qustion= qustion\n",
        "    self.Applicant_id=Applicant_id   "
      ],
      "execution_count": null,
      "outputs": []
    },
    {
      "cell_type": "code",
      "metadata": {
        "id": "H6BfW9UnMLN5"
      },
      "source": [
        "#質問箱クラスを作成\n",
        "class Couseiling ():  \n",
        "#変数を指定\n",
        "  def __init__(self):\n",
        "    #申込者リスト(初期化)\n",
        "    self.Applicant_list=[]\n",
        "\n",
        "#関数を指定\n",
        "  #待ち人数を表示させる\n",
        "  def show_waiting_count(self):\n",
        "    print(f\"ただいまの待ち人数は{len(self.Applicant_list)}人です\")\n",
        "  #予約する\n",
        "  def reserve(self, Applicant):\n",
        "    if self._check_reserved(Applicant):\n",
        "      print(f'{Applicant.name}はすでに予約済みです')\n",
        "    else :\n",
        "        print(f'{Applicant.name}さん予約完了')\n",
        "        self.Applicant_list.append(Applicant)\n",
        "  #患者の診察処理\n",
        "  def answer(self,Applicant_id=None):\n",
        "      Applicant = None\n",
        "      #指定がない時は、予約の早い患者を順に診察。\n",
        "      \n",
        "      if Applicant_id == None:\n",
        "            if len(self.Applicant_list)>0:\n",
        "                Applicant = self.Applicant_list[0]\n",
        "      #引数で患者が指定されたときは、その患者を優先して診察。\n",
        "      else:\n",
        "          for p in self.Applicant_list:\n",
        "              if p.Applicant_id == Applicant_id:\n",
        "                  Applicant = p\n",
        "       # 診察患者がいない場合\n",
        "      if Applicant == None:\n",
        "          print('診察する患者がいません。')\n",
        "      else:\n",
        "          print(f'{Applicant.name}さん、{Applicant.qustion}ですね。')\n",
        "          \n",
        "          print(f'診察終わりました。お大事に。')\n",
        "\n",
        "          # 患者リストpatients_listから除外\n",
        "          self.Applicant_list.remove(Applicant)\n",
        "\n",
        "#予約済み確認\n",
        "  def _check_reserved(self,Applicant):\n",
        "    for p in self.Applicant_list:\n",
        "            # 引数のApplicantとApplicant_listの中のpatient_idの比較\n",
        "            if  p.Applicant_id == Applicant.Applicant_id:\n",
        "                return True\n",
        "    return False\n"
      ],
      "execution_count": null,
      "outputs": []
    },
    {
      "cell_type": "markdown",
      "metadata": {
        "id": "kkF4vefCMQP_"
      },
      "source": [
        "相談所をインスタンス"
      ]
    },
    {
      "cell_type": "code",
      "metadata": {
        "id": "eVyElpRhMN-E"
      },
      "source": [
        "#インスタンスを行う\n",
        "mycouseiling= Couseiling()"
      ],
      "execution_count": null,
      "outputs": []
    },
    {
      "cell_type": "markdown",
      "metadata": {
        "id": "5yeGsnIeMSg_"
      },
      "source": [
        "数名予約"
      ]
    },
    {
      "cell_type": "code",
      "metadata": {
        "id": "3DKVmC-RMSJ_"
      },
      "source": [
        "#質問者リスト追加\n",
        "applicants = [['佐藤', '111', 'エラー表示の意味がわからない'],\n",
        "              ['田中', '222', 'mysqliとpdoの違い'],\n",
        "              ['鈴木', '333', 'cssの正確に表示されない'],\n",
        "              ['山田', '444', 'getでデータを送れない'],\n",
        "              ['中田', '555', '課題が終われば何をすれば'],]\n",
        "\n",
        "\n",
        "for p in applicants :\n",
        "    name, age, qustion = p\n",
        "  #loopで取得する name, age, symptomでPatientをインスタンス\n",
        "  #情報をとる\n",
        "    applicant=Applicant(name, age, qustion) \n",
        "\n",
        "  #myclinicに予約 *reserveメソッド使用\n",
        "    mycouseiling.reserve(applicant)\n",
        "\n",
        "#現在の待ち人数を表示\n",
        "mycouseiling.show_waiting_count()"
      ],
      "execution_count": null,
      "outputs": []
    },
    {
      "cell_type": "markdown",
      "metadata": {
        "id": "clAkRCP0MXr1"
      },
      "source": [
        "重複の予約を行う\n"
      ]
    },
    {
      "cell_type": "code",
      "metadata": {
        "id": "iTizqO5BMa70"
      },
      "source": [
        "# 自分の名前でインスタンス\n",
        "me = Applicant('中田', '555', 'mysqliとpdoの違い')\n",
        "# 予約する\n",
        "mycouseiling.reserve(me)\n",
        "# 現在の待ち人数表示\n",
        "mycouseiling.show_waiting_count()"
      ],
      "execution_count": null,
      "outputs": []
    },
    {
      "cell_type": "markdown",
      "metadata": {
        "id": "oRvYNbpkMdcc"
      },
      "source": [
        "質問者のリストの順番通り"
      ]
    },
    {
      "cell_type": "code",
      "metadata": {
        "id": "Tm3IU69eMfe7"
      },
      "source": [
        "# 相談\n",
        "mycouseiling.answer()\n",
        "# 現在の待ち人数表示\n",
        "mycouseiling.show_waiting_count()"
      ],
      "execution_count": null,
      "outputs": []
    },
    {
      "cell_type": "markdown",
      "metadata": {
        "id": "1QcKQerOMhjm"
      },
      "source": [
        "質問者ID=555を指定して相談を実行する"
      ]
    },
    {
      "cell_type": "code",
      "metadata": {
        "id": "-SfSNuuZMng6"
      },
      "source": [
        "# 相談\n",
        "mycouseiling.answer(Applicant_id='555')\n",
        "# 現在の待ち人数表示\n",
        "mycouseiling.show_waiting_count()"
      ],
      "execution_count": null,
      "outputs": []
    }
  ]
}